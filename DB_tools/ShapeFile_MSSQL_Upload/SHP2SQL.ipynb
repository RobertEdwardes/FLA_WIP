{
    "metadata": {
        "kernelspec": {
            "name": "python3",
            "display_name": "Python 3",
            "language": "python"
        },
        "language_info": {
            "name": "python",
            "version": "3.8.5",
            "mimetype": "text/x-python",
            "codemirror_mode": {
                "name": "ipython",
                "version": 3
            },
            "pygments_lexer": "ipython3",
            "nbconvert_exporter": "python",
            "file_extension": ".py"
        }
    },
    "nbformat_minor": 2,
    "nbformat": 4,
    "cells": [
        {
            "cell_type": "code",
            "source": [
                "import geopandas as gpd \r\n",
                "import pyodbc\r\n",
                "import config\r\n",
                "import os\r\n",
                "conn = pyodbc.connect('Driver={SQL Server};'\r\n",
                "                     f'Server={config.sql_server};'\r\n",
                "                     f'Database={config.sql_databse};'\r\n",
                "                     f'UID={config.sql_user};'\r\n",
                "                     f'PWD={config.sql_pass};')"
            ],
            "metadata": {
                "azdata_cell_guid": "523939e2-9254-4741-9734-3c8be290913e",
                "tags": []
            },
            "outputs": [],
            "execution_count": 1
        },
        {
            "cell_type": "markdown",
            "source": [
                "TODO:\n",
                "\n",
                "Chunck insert (MAX 1000 - [SQL Server Doc](https://docs.microsoft.com/en-us/sql/t-sql/queries/table-value-constructor-transact-sql?redirectedfrom=MSDN&view=sql-server-ver15))\n",
                "\n",
                "multi input Directory/Single File/Dataframe\n",
                "\n",
                "Try... Except... Finally...\n",
                "\n",
                "SQL Parameters (CRS, Database, Tablename)\n",
                "\n",
                "Schema Option"
            ],
            "metadata": {
                "azdata_cell_guid": "7ce1097f-2c17-4993-bd52-873a27d066ab"
            },
            "attachments": {}
        },
        {
            "cell_type": "code",
            "source": [
                "def check_table(dbName, tableName, cursor):\r\n",
                "    sql = f\"\"\" SELECT TABLE_NAME \r\n",
                "        FROM {dbName}.INFORMATION_SCHEMA.TABLES\r\n",
                "        WHERE TABLE_TYPE = 'BASE TABLE' \"\"\"\r\n",
                "    cursor.execute(sql)\r\n",
                "    row = cursor.fetchone()\r\n",
                "    while row:\r\n",
                "        if tableName == row[0]:\r\n",
                "            return True\r\n",
                "        row = cursor.fetchone()\r\n",
                "\r\n",
                "def build_schema(data):\r\n",
                "    df_dt = data.dtypes\r\n",
                "    schema = {}\r\n",
                "    for idx, row in df_dt.iteritems():\r\n",
                "        if row == 'int64':\r\n",
                "            dataType = 'int'\r\n",
                "        elif row == 'float64':\r\n",
                "            dataType = 'float'\r\n",
                "        elif row == 'geometry':\r\n",
                "            dataType = 'geometry'\r\n",
                "        else:\r\n",
                "            dataType = 'VarChar(250)'\r\n",
                "        schema[idx] = dataType\r\n",
                "    return schema\r\n",
                "\r\n",
                "\r\n",
                "def create_table(data,dbName,tableName,cursor,schema=None):\r\n",
                "    if schema is None:\r\n",
                "        schema = build_schema(data)\r\n",
                "    for key, value in schema.items():\r\n",
                "        col_dtype_list.append(f'{key} {value}')\r\n",
                "    varCharCols = ','.join(col_dtype_list)\r\n",
                "    if check_table(dbName, tableName, cursor)\r\n",
                "        createTableString = f\"\"\"\r\n",
                "            CREATE TABLE {tableName} (\r\n",
                "                {tableCols}\r\n",
                "            );\r\n",
                "        \"\"\"\r\n",
                "        cxn.execute(createTableString)\r\n",
                "        cxn.commit()\r\n",
                "\r\n",
                "def insert_byRow(data, cursor, crs):\r\n",
                "    cols = data.columns\r\n",
                "    geo = cols[-1:][0]\r\n",
                "    cols = cols[:-1]\r\n",
                "    insertHead = ','.join([str(elem) for elem in cols])\r\n",
                "    insertHead = insertHead+', polygon'\r\n",
                "    for row in data.iterrows():\r\n",
                "            valgeo = row[1]['geometry']\r\n",
                "            val = row[1].tolist()\r\n",
                "            val = val[:-1]\r\n",
                "            val = ','.join([\"'\"+str(elem).replace(\"'\", \"''\")+\"'\" for elem in val])\r\n",
                "            insertSQL = f\"insert into {tableName} ({insertHead}) values ({val}, geometry::STGeomFromText('{valgeo}', {crs}))\"\r\n",
                "            cursor.execute(insertSQL)\r\n",
                "            cursor.commit()\r\n",
                "\r\n",
                "def insert_byChunck(data, cursor, crs):\r\n",
                "    list_df = [gdfCD[i:i+n] for i in range(0,gdfCD.shape[0],1000)]\r\n",
                "    for i in list_df:\r\n",
                "    insertrow = []\r\n",
                "    for idx, row in i.iterrows():\r\n",
                "        valgeo = row['geometry']\r\n",
                "        val = row.tolist()\r\n",
                "        val = val[:-1]\r\n",
                "        val = ','.join([\"'\"+str(elem).replace(\"'\", \"''\")+\"'\" for elem in val])\r\n",
                "        insertSQL = f\"({val}, geometry::STGeomFromText('{valgeo}', {crs}))\"\r\n",
                "        insertrow.append(insertSQL)\r\n",
                "    cols = data.columns\r\n",
                "    insertHead = ','.join([str(elem) for elem in cols])\r\n",
                "    chuckInsertRows = ','.join()\r\n",
                "    insertSQL = f\"insert into {tableName} ({insertHead}) values {chuckInsertRows}\"\r\n",
                "    cursor.execute(insertSQL)\r\n",
                "    cursor.commit()\r\n",
                "\r\n",
                "def upload_GISdata(data, dbName, tableName, conn, path=None , crs=4269, **schema):\r\n",
                "    cursor = conn.cursor()\r\n",
                "    if path:\r\n",
                "        os.chdir(path)\r\n",
                "    data = data.to_crs(epsg=crs)\r\n",
                "    \r\n",
                "        \r\n",
                "    cxn.close()"
            ],
            "metadata": {
                "azdata_cell_guid": "93e10b35-1503-4ef6-9033-e7c318dbf4b7",
                "tags": []
            },
            "outputs": [],
            "execution_count": 10
        },
        {
            "cell_type": "code",
            "source": [
                "gdf = gpd.read_file('tl_2021_us_cd116.zip')\r\n",
                "gdfCD = gdf[gdf['STATEFP']=='27']\r\n",
                "gdfCD.head()"
            ],
            "metadata": {
                "azdata_cell_guid": "9a95baca-12d0-4fc2-bc48-2875e5b9d6d7",
                "tags": [
                    "hide_input"
                ]
            },
            "outputs": [
                {
                    "data": {
                        "text/plain": "   STATEFP CD116FP GEOID                  NAMELSAD LSAD CDSESSN  MTFCC  \\\n0       27      07  2707  Congressional District 7   C2     116  G5200   \n1       27      02  2702  Congressional District 2   C2     116  G5200   \n2       27      06  2706  Congressional District 6   C2     116  G5200   \n3       27      08  2708  Congressional District 8   C2     116  G5200   \n51      27      01  2701  Congressional District 1   C2     116  G5200   \n\n   FUNCSTAT        ALAND       AWATER     INTPTLAT      INTPTLON  \\\n0         N  86581556608   5058864376  +46.5530202  -095.6759048   \n1         N   6314201751    241412000  +44.4789680  -092.8530418   \n2         N   7460842730    409026974  +45.3368069  -093.8520551   \n3         N  72283254582  12454422188  +47.2503576  -092.9640512   \n51        N  31013752203    540214315  +43.8989394  -093.7117418   \n\n                                             geometry  \n0   POLYGON ((-97.23909 48.96826, -97.23909 48.968...  \n1   POLYGON ((-93.91131 44.54651, -93.91024 44.548...  \n2   POLYGON ((-94.64041 45.37072, -94.64039 45.371...  \n3   POLYGON ((-95.18322 47.41277, -95.16598 47.412...  \n51  POLYGON ((-96.45347 43.60894, -96.45347 43.609...  ",
                        "text/html": "<div>\n<style scoped>\n    .dataframe tbody tr th:only-of-type {\n        vertical-align: middle;\n    }\n\n    .dataframe tbody tr th {\n        vertical-align: top;\n    }\n\n    .dataframe thead th {\n        text-align: right;\n    }\n</style>\n<table border=\"1\" class=\"dataframe\">\n  <thead>\n    <tr style=\"text-align: right;\">\n      <th></th>\n      <th>STATEFP</th>\n      <th>CD116FP</th>\n      <th>GEOID</th>\n      <th>NAMELSAD</th>\n      <th>LSAD</th>\n      <th>CDSESSN</th>\n      <th>MTFCC</th>\n      <th>FUNCSTAT</th>\n      <th>ALAND</th>\n      <th>AWATER</th>\n      <th>INTPTLAT</th>\n      <th>INTPTLON</th>\n      <th>geometry</th>\n    </tr>\n  </thead>\n  <tbody>\n    <tr>\n      <th>0</th>\n      <td>27</td>\n      <td>07</td>\n      <td>2707</td>\n      <td>Congressional District 7</td>\n      <td>C2</td>\n      <td>116</td>\n      <td>G5200</td>\n      <td>N</td>\n      <td>86581556608</td>\n      <td>5058864376</td>\n      <td>+46.5530202</td>\n      <td>-095.6759048</td>\n      <td>POLYGON ((-97.23909 48.96826, -97.23909 48.968...</td>\n    </tr>\n    <tr>\n      <th>1</th>\n      <td>27</td>\n      <td>02</td>\n      <td>2702</td>\n      <td>Congressional District 2</td>\n      <td>C2</td>\n      <td>116</td>\n      <td>G5200</td>\n      <td>N</td>\n      <td>6314201751</td>\n      <td>241412000</td>\n      <td>+44.4789680</td>\n      <td>-092.8530418</td>\n      <td>POLYGON ((-93.91131 44.54651, -93.91024 44.548...</td>\n    </tr>\n    <tr>\n      <th>2</th>\n      <td>27</td>\n      <td>06</td>\n      <td>2706</td>\n      <td>Congressional District 6</td>\n      <td>C2</td>\n      <td>116</td>\n      <td>G5200</td>\n      <td>N</td>\n      <td>7460842730</td>\n      <td>409026974</td>\n      <td>+45.3368069</td>\n      <td>-093.8520551</td>\n      <td>POLYGON ((-94.64041 45.37072, -94.64039 45.371...</td>\n    </tr>\n    <tr>\n      <th>3</th>\n      <td>27</td>\n      <td>08</td>\n      <td>2708</td>\n      <td>Congressional District 8</td>\n      <td>C2</td>\n      <td>116</td>\n      <td>G5200</td>\n      <td>N</td>\n      <td>72283254582</td>\n      <td>12454422188</td>\n      <td>+47.2503576</td>\n      <td>-092.9640512</td>\n      <td>POLYGON ((-95.18322 47.41277, -95.16598 47.412...</td>\n    </tr>\n    <tr>\n      <th>51</th>\n      <td>27</td>\n      <td>01</td>\n      <td>2701</td>\n      <td>Congressional District 1</td>\n      <td>C2</td>\n      <td>116</td>\n      <td>G5200</td>\n      <td>N</td>\n      <td>31013752203</td>\n      <td>540214315</td>\n      <td>+43.8989394</td>\n      <td>-093.7117418</td>\n      <td>POLYGON ((-96.45347 43.60894, -96.45347 43.609...</td>\n    </tr>\n  </tbody>\n</table>\n</div>"
                    },
                    "metadata": {},
                    "execution_count": 29,
                    "output_type": "execute_result"
                }
            ],
            "execution_count": 29
        },
        {
            "cell_type": "code",
            "source": [
                ""
            ],
            "metadata": {
                "azdata_cell_guid": "44041e21-b6ce-4371-bbf0-2e3c49c3102e",
                "tags": []
            },
            "outputs": [
                {
                    "name": "stdout",
                    "text": "[\"('27','07','2707','Congressional District 7','C2','116','G5200','N','86581556608','5058864376','+46.5530202','-095.6759048', geometry::STGeomFromText('', 4269))\", \"('27','02','2702','Congressional District 2','C2','116','G5200','N','6314201751','241412000','+44.4789680','-092.8530418', geometry::STGeomFromText('', 4269))\"]\n[\"('27','06','2706','Congressional District 6','C2','116','G5200','N','7460842730','409026974','+45.3368069','-093.8520551', geometry::STGeomFromText('', 4269))\", \"('27','08','2708','Congressional District 8','C2','116','G5200','N','72283254582','12454422188','+47.2503576','-092.9640512', geometry::STGeomFromText('', 4269))\"]\n[\"('27','01','2701','Congressional District 1','C2','116','G5200','N','31013752203','540214315','+43.8989394','-093.7117418', geometry::STGeomFromText('', 4269))\", \"('27','03','2703','Congressional District 3','C2','116','G5200','N','1366025400','144548321','+44.9959261','-093.5288022', geometry::STGeomFromText('', 4269))\"]\n[\"('27','04','2704','Congressional District 4','C2','116','G5200','N','861446775','84223132','+45.0027128','-092.9773663', geometry::STGeomFromText('', 4269))\", \"('27','05','2705','Congressional District 5','C2','116','G5200','N','351547035','16683427','+44.9809623','-093.2941451', geometry::STGeomFromText('', 4269))\"]\n",
                    "output_type": "stream"
                }
            ],
            "execution_count": 47
        }
    ]
}